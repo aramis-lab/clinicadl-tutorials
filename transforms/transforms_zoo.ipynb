{
 "cells": [
  {
   "cell_type": "markdown",
   "metadata": {},
   "source": [
    "# How to add your own transforms in the ClinicaDL Transforms Zoo?\n"
   ]
  },
  {
   "cell_type": "markdown",
   "metadata": {},
   "source": [
    "The goal of this tutorial is to add your own transforms to the ClinicaDL Transform Zoo, so that they benefit the community and can be easily reused in your future works."
   ]
  },
  {
   "cell_type": "markdown",
   "metadata": {},
   "source": [
    "## STEP 1: Create the Transform"
   ]
  },
  {
   "cell_type": "markdown",
   "metadata": {},
   "source": [
    "First of all, create a new python file in `clinicadl_zoo/transforms/transforms` in which you create your new transform that inherits from [torchio.Transforms](https://torchio.readthedocs.io/transforms/transforms.html#torchio.transforms.Transform). \n",
    "\n",
    "You only need to overwrite the ``__init__``, where you define your parameters (don't forget to define the list of these parameters is ``self.arg_names``), and the method ``apply_transform``, where you actually compute the transform.\n",
    "\n",
    "This latter must take as input and return a [DataPoint](https://clinicadl.readthedocs.io/en/latest/data/datapoint.html#clinicadl.data.structures.DataPoint). Inside, feel free to use the useful methods of DataPoint to compute your transforms. You will likely be particularly interested in ``get_images``, that enables you to iterate on all the images and masks in the DataPoint.\n",
    "\n",
    "For more details on how to implement your own transform, see [our tutorial](https://github.com/aramis-lab/clinicadl/blob/clinicadl_v2/tutorials/transforms/custom_transforms.ipynb).\n",
    "\n",
    "PS: don't forget to call ``super().__init__()``!"
   ]
  },
  {
   "cell_type": "code",
   "execution_count": null,
   "metadata": {},
   "outputs": [],
   "source": [
    "# in clinicadl_zoo/transforms/transforms/my_custom_transform.py\n",
    "\n",
    "import torchio as tio\n",
    "from clinicadl.data.structures import DataPoint\n",
    "\n",
    "\n",
    "class MyCustomTransform(tio.Transform):\n",
    "    \"\"\"\n",
    "    The description of your transform.\n",
    "\n",
    "    Parameters\n",
    "    ----------\n",
    "    arg1 : float\n",
    "        Description of arg1.\n",
    "    arg2 : int (default=0)\n",
    "        Description of arg2.\n",
    "    \"\"\"\n",
    "    def __init__(\n",
    "        self,\n",
    "        arg1: float,\n",
    "        arg2: int = 0,\n",
    "        **kwargs,\n",
    "    ):\n",
    "        super().__init__(**kwargs)\n",
    "        self.arg1, self.arg2 = arg1, arg2\n",
    "        self.args_names = [\"arg1\", \"arg2\"]\n",
    "\n",
    "    def apply_transform(self, datapoint: DataPoint) -> DataPoint:   # pylint: disable=arguments-renamed\n",
    "        \"\"\"\n",
    "        Apply the transform to the datapoint.\n",
    "        \"\"\"\n",
    "        return datapoint"
   ]
  },
  {
   "cell_type": "markdown",
   "metadata": {},
   "source": [
    "Then add this transform in ``clinicadl_zoo/transforms/transforms/__init__``:"
   ]
  },
  {
   "cell_type": "code",
   "execution_count": null,
   "metadata": {},
   "outputs": [],
   "source": [
    "# in clinicadl_zoo/transforms/transforms/__init__.py\n",
    "\n",
    "from .my_custom_transform import MyCustomTransform\n",
    "from .nan_removal import NanRemoval\n",
    "from .template import Template"
   ]
  },
  {
   "cell_type": "markdown",
   "metadata": {},
   "source": [
    "## STEP 2: Add the name of your transform in the list"
   ]
  },
  {
   "cell_type": "markdown",
   "metadata": {},
   "source": [
    "Then, you need to add name of your transform in the ``ZooTransform`` enum in the `clinicadl_zoo.transforms.enum`."
   ]
  },
  {
   "cell_type": "code",
   "execution_count": null,
   "metadata": {},
   "outputs": [],
   "source": [
    "# in clinicadl_zoo/transforms/enum.py\n",
    "\n",
    "class ZooTransform(str, BaseEnum):\n",
    "    \"\"\"\n",
    "    Implemented transforms in ClinicaDL Transofrm Zoo.\n",
    "    \"\"\"\n",
    "\n",
    "    NAN_REMOVAL = \"NanRemoval\"\n",
    "    MY_CUSTOM_TRANSFORM = \"MyCustomTransform\"\n"
   ]
  },
  {
   "cell_type": "markdown",
   "metadata": {},
   "source": [
    "## STEP 3: Create the config class asociated to your transform"
   ]
  },
  {
   "cell_type": "markdown",
   "metadata": {},
   "source": [
    "ClinicaDL uses **configuration classes** to easily manipulate objects from different Deep Learning libraries and to enhance the reproducibility of your code.\n",
    "<br>\n",
    "<br>\n",
    "So, when you implement a new transform in ClinicaDL Zoo, we ask you to also create the associated configuration class.\n",
    "<br>\n",
    "<br>\n",
    "This class must inherit from `ZooTransformConfig` in `clinicadl_zoo.transforms.config.base` and **must be named** like the transform, followed by the suffix \"Config\".\n",
    "\n",
    "To implement your config class, use the following example:\n"
   ]
  },
  {
   "cell_type": "code",
   "execution_count": null,
   "metadata": {},
   "outputs": [],
   "source": [
    "# in clinicadl_zoo/trasnforms/config/my_custom_transform.py\n",
    "\n",
    "from typing import Union\n",
    "\n",
    "from clinicadl.utils.config import DefaultFromLibrary\n",
    "\n",
    "from .base import ZooTransformConfig\n",
    "\n",
    "\n",
    "class MyCustomTransformConfig(ZooTransformConfig):\n",
    "    \"\"\"\n",
    "    Config class for :py:class:`clinicadl_zoo.transforms.MyCustomTransform`.\n",
    "    \"\"\"\n",
    "\n",
    "    arg1: float\n",
    "    arg2: int\n",
    "\n",
    "    def __init__(\n",
    "        self,\n",
    "        arg1: float,\n",
    "        arg2: Union[int, DefaultFromLibrary] = DefaultFromLibrary.YES,\n",
    "    ):\n",
    "        super().__init__(arg1=arg1, arg2=arg2)"
   ]
  },
  {
   "cell_type": "markdown",
   "metadata": {},
   "source": [
    "Notice that for arguments that are optional in ``MyCustomTransform``, we use the ``DefaultFromLibrary`` tool. Basically, it means here that if the user doesn't pass any value for ``arg2``, ``MyCustomTransformConfig`` will use the default value for ``arg2`` in ``MyCustomTransform``."
   ]
  },
  {
   "cell_type": "markdown",
   "metadata": {},
   "source": [
    "Then add this configuration class in ``clinicadl_zoo/transforms/config/__init__``:\n"
   ]
  },
  {
   "cell_type": "code",
   "execution_count": null,
   "metadata": {},
   "outputs": [],
   "source": [
    "# in clinicadl_zoo/transforms/transforms/__init__.py\n",
    "\n",
    "from .my_custom_transform import MyCustomTransformConfig\n",
    "from .nan_removal import NanRemovalConfig\n",
    "from .template import TemplateConfig"
   ]
  },
  {
   "cell_type": "markdown",
   "metadata": {},
   "source": [
    "## STEP 4: Test your code"
   ]
  },
  {
   "cell_type": "markdown",
   "metadata": {},
   "source": [
    "Good coding practices requires that you test the code you have just implemented. Put your unittests in ``tests/unittests/transforms/factory/test_my_custom_transform.py``. Have a look at an example in [tests/unittests/transforms/factory/test_nan_removal.py](https://github.com/aramis-lab/clinicadl-zoo/blob/main/tests/unittests/transforms/factory/test_nan_removal.py) to help you"
   ]
  },
  {
   "cell_type": "markdown",
   "metadata": {},
   "source": [
    "Once the tests are implemented, you can test your code with the command:\n",
    "    "
   ]
  },
  {
   "cell_type": "code",
   "execution_count": null,
   "metadata": {},
   "outputs": [],
   "source": [
    "!conda activate clinicadl_env   # change with the name of your clinicadl environment\n",
    "!pytest ../tests/unittests/transforms"
   ]
  },
  {
   "cell_type": "markdown",
   "metadata": {},
   "source": [
    "## STEP 5: Create a Pull Request in the repository "
   ]
  },
  {
   "cell_type": "markdown",
   "metadata": {},
   "source": [
    "Once everything is implemented and tested, you should open a pull request on the [ClinicaDL Zoo GitHub repository](https://github.com/aramis-lab/clinicadl-zoo).\n",
    "<br>\n",
    "<br>\n",
    "Make sure to briefly describe your transform, its purpose, and the parameters it introduces. This helps the maintainers to review and integrate your contribution more efficiently.\n",
    "\n",
    "If you have any questions or run into issues during the process, don’t hesitate to [contact us](https://github.com/aramis-lab/clinicadl-zoo/issues) — we’re happy to help!\n"
   ]
  },
  {
   "cell_type": "markdown",
   "metadata": {},
   "source": [
    "## STEP 6: Use your transform in ClinicaDL!"
   ]
  },
  {
   "cell_type": "markdown",
   "metadata": {},
   "source": [
    "To use a transform from ``ClinicaDL Zoo`` in ``ClinicaDL``, simply install clinicadl-zoo in your clinicadl environment:"
   ]
  },
  {
   "cell_type": "code",
   "execution_count": null,
   "metadata": {},
   "outputs": [],
   "source": [
    "!cd ../clinicadl\n",
    "!git checkout clinicadl_v2\n",
    "!poetry install --extras zoo"
   ]
  }
 ],
 "metadata": {
  "kernelspec": {
   "display_name": "clinicadl-zoo_dev",
   "language": "python",
   "name": "python3"
  },
  "language_info": {
   "codemirror_mode": {
    "name": "ipython",
    "version": 3
   },
   "file_extension": ".py",
   "mimetype": "text/x-python",
   "name": "python",
   "nbconvert_exporter": "python",
   "pygments_lexer": "ipython3",
   "version": "3.11.12"
  }
 },
 "nbformat": 4,
 "nbformat_minor": 2
}
